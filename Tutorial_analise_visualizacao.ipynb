{
  "nbformat": 4,
  "nbformat_minor": 0,
  "metadata": {
    "colab": {
      "provenance": [],
      "collapsed_sections": [
        "-8GB5GSnKXZv",
        "qGI3QHv04hMs",
        "iPgf_8np46wJ",
        "84_WNb8tIJo9",
        "4z3WorCk92uh",
        "fn7ufOheNMSk"
      ]
    },
    "kernelspec": {
      "name": "python3",
      "display_name": "Python 3"
    },
    "language_info": {
      "name": "python"
    }
  },
  "cells": [
    {
      "cell_type": "markdown",
      "source": [
        "# **TUTORIAL ANÁLISE DE DADOS - CONHECENDO A COMUNIDADE PYLADIES FORTALEZA:**\n",
        "\n",
        "\n"
      ],
      "metadata": {
        "id": "N5AvMrGTr1ij"
      }
    },
    {
      "cell_type": "markdown",
      "source": [
        "# **A Importância dos Dados nas Decisões**\n",
        "\n",
        "\n",
        "<center><img src=\"https://ofuturodascoisas.com/wp-content/uploads/2019/03/data-is-the-new-oil.jpg\" width=\"500\" height=\"600\" alt=\"data_novo_petroleo\"></center>\n"
      ],
      "metadata": {
        "id": "-8GB5GSnKXZv"
      }
    },
    {
      "cell_type": "markdown",
      "source": [
        "### **Decisões Baseadas em Dados - Como você vê essas decisões sendo usadas:**\n",
        "\n",
        "- Empresas\n",
        "- Saúde\n",
        "- Governo\n",
        "- Ferramentas e Técnicas"
      ],
      "metadata": {
        "id": "cosPPg9XKZjb"
      }
    },
    {
      "cell_type": "markdown",
      "source": [
        "## **Dados X Informação**\n",
        "\n",
        "<center><img src=\"https://universidadedatecnologia.com.br/wp-content/uploads/2019/01/banner_2.png\" width=\"400\" height=\"250\" alt=\"dadosxinfo\"></center>\n"
      ],
      "metadata": {
        "id": "qGI3QHv04hMs"
      }
    },
    {
      "cell_type": "markdown",
      "source": [
        "### **Dados**\n",
        " - **Definição:** Elementos brutos e não processados, como números, letras ou símbolos, que representam fatos ou detalhes sobre eventos.\n",
        "   - **Exemplo:** Números \"23, 45, 67\" ou letras \"a, b, c\", que sem contexto não têm significado.\n",
        " - **Características:**\n",
        "   - **Brutos:** Coletados na forma mais pura e não interpretada.\n",
        "   - **Objetivos:** Fatos ou medidas ainda não processados.\n",
        "\n",
        "### **Informação**\n",
        " - **Definição:** Resultado do processamento e organização dos dados, proporcionando significado e contexto útil para decisões.\n",
        "   - **Exemplo:** Dados \"23, 45, 67\" como idades de pessoas, transformando-se na informação de que são as idades de três indivíduos.\n",
        " - **Características:**\n",
        "   - **Processada:** Resulta da análise e interpretação dos dados.\n",
        "   - **Significativa:** Dá contexto e utilidade aos dados.\n",
        "\n",
        "### **Relação entre Dados e Informação**\n",
        "\n",
        "  - **Transformação:** Dados são transformados em informação ao serem processados e contextualizados.\n",
        "    - **Utilidade:** Dados são essenciais para coleta de fatos, enquanto a informação guia a compreensão e a tomada de decisões.\n",
        "\n",
        "**Alguém pode me dar um exemplo Prático:**"
      ],
      "metadata": {
        "id": "-G149hSrKiyk"
      }
    },
    {
      "cell_type": "markdown",
      "source": [
        "\n",
        "### **Ok... Legal já entendi a diferença...**\n",
        "<center><img src=\"https://media.giphy.com/media/26ufdipQqU2lhNA4g/giphy.gif?cid=790b7611ocnbgcs7f4a39v8gn5wuai8y2qmr9krfjmft8fgz&ep=v1_gifs_search&rid=giphy.gif&ct=g\" width=\"400\" height=\"350\" alt=\"dadosxinfo\"></center>"
      ],
      "metadata": {
        "id": "Keak47BDLAo8"
      }
    },
    {
      "cell_type": "markdown",
      "source": [
        "\n",
        "\n",
        "## **E agora? Quais são os próximos passos?**\n",
        "\n"
      ],
      "metadata": {
        "id": "iPgf_8np46wJ"
      }
    },
    {
      "cell_type": "markdown",
      "source": [
        "\n",
        "<center><img src=\"https://media.giphy.com/media/v1.Y2lkPTc5MGI3NjExdmphNnRjNHFienFxeWdpcGltNWNjNGZvbjJkamlneXE0dml0MmlrbCZlcD12MV9naWZzX3NlYXJjaCZjdD1n/26DN48mfu3uWJ3J7y/giphy.gif\" width=\"500\" height=\"350\" alt=\"dadosxinfo\"></center>\n"
      ],
      "metadata": {
        "id": "bzi0OGv4LRls"
      }
    },
    {
      "cell_type": "markdown",
      "source": [
        "### **Práticas Éticas na Coleta e Uso de Dados**\n",
        "\n",
        "### **Privacidade e Consentimento:**\n",
        "\n",
        "\n",
        "1. **Consentimento Informado:** Os indivíduos devem ser informados sobre quais dados estão sendo coletados, como serão usados e devem dar seu consentimento explícito.\n",
        "1. **Anonimização:** Técnicas devem ser aplicadas para proteger a identidade dos indivíduos nos dados coletados\n",
        "1. **Transparência:** As organizações devem ser responsáveis pela proteção dos dados e pelo uso ético dos mesmos.\n",
        "1. **Responsabilidade:** As organizações devem ser responsáveis pela proteção dos dados e pelo uso ético dos mesmos.\n",
        "1. **Igualdade e Não-Discriminação:** Os dados e os algoritmos devem ser monitorados para evitar viéses e preconceitos que possam levar à discriminação.\n",
        "1. **Segurança de Dados:** Implementação de medidas de segurança robustas para proteger os dados contra acessos não autorizados e violações."
      ],
      "metadata": {
        "id": "yF5FtZaQ5hPn"
      }
    },
    {
      "cell_type": "markdown",
      "source": [
        "# O que nos faz ser um bom analista de dados:\n",
        "\n",
        "<center><img src=\"https://media.giphy.com/media/v1.Y2lkPTc5MGI3NjExcGdicTZybWg1YTk4NjR2ZzEwbjc4d2Q2YWVqbGY1aDF4cHcwaHh4ciZlcD12MV9naWZzX3NlYXJjaCZjdD1n/JWuBH9rCO2uZuHBFpm/giphy.gif\" width=\"350\" height=\"350\" alt=\"knowledge\"></center>"
      ],
      "metadata": {
        "id": "84_WNb8tIJo9"
      }
    },
    {
      "cell_type": "markdown",
      "source": [
        "\n",
        "Uma combinação de habilidades técnicas, habilidades analíticas e soft skills. Aqui estão algumas dicas para ajudá-lo a se destacar nessa área:\n",
        "\n",
        "### 1. **Habilidades Técnicas:**\n",
        "   - **Domínio de Ferramentas e Linguagens:** Aprenda a usar ferramentas e linguagens de programação como Python, R, SQL, Excel, Tableau, e Power BI. Essas são fundamentais para manipulação, análise e visualização de dados.\n",
        "   - **Conhecimento de Estatística e Matemática:** Ter uma base sólida em estatística e matemática é essencial para interpretar dados e validar resultados de análise.\n",
        "   - **Entendimento de Bancos de Dados:** Compreenda como bancos de dados funcionam e como extrair dados deles usando SQL.\n",
        "\n",
        "### 2. **Habilidades Analíticas:**\n",
        "   - **Pensamento Crítico:** Desenvolva a capacidade de questionar dados, identificar padrões e tendências, e entender o impacto dos dados no negócio.\n",
        "   - **Resolução de Problemas:** Pratique a resolução de problemas usando dados para chegar a conclusões lógicas e factuais.\n",
        "\n",
        "### 3. **É impossível trabalhar sozinho:**\n",
        "   - **Comunicação Eficaz:** Seja capaz de comunicar suas descobertas de forma clara e concisa, tanto por escrito quanto verbalmente, para audiências técnicas e não técnicas.\n",
        "   - **Trabalho em Equipe:** Colabore bem com colegas de diferentes departamentos, como marketing, vendas, e TI, para entender suas necessidades de dados e fornecer insights valiosos.\n",
        "\n",
        "### 4. **Ganhe Experiência Prática:**\n",
        "   - **Trabalhe em Projetos Reais:** Participe de estágios, empregos de nível inicial, ou projetos de dados freelance. Isso ajuda a aplicar o que você aprendeu em um ambiente real.\n",
        "   - **Construa um Portfólio:** Mantenha um portfólio online com exemplos de suas análises e visualizações de dados para mostrar suas habilidades a potenciais empregadores.\n",
        "\n",
        "### 5. **Mantenha-se Atualizado:**\n",
        "   - **Siga Tendências da Indústria:** Acompanhe blogs, podcasts, e webinars sobre ciência de dados para ficar atualizado sobre as últimas tendências e tecnologias.\n",
        "   - **Educação Continuada:** Participe de cursos online, workshops e certificações para aprender novas habilidades e aprofundar seu conhecimento.\n",
        "\n",
        "### 6. **Desenvolva Conhecimento de Negócios:**\n",
        "   - **Entenda o Contexto de Negócios:** Conheça o setor em que você está trabalhando. Isso ajudará a contextualizar suas análises e a fornecer insights mais relevantes e impactantes.\n",
        "\n",
        "### 7. **Cultive a Curiosidade:**\n",
        "   - **Pergunte-se \"Por que?\"**: Esteja sempre curioso sobre os dados. Pergunte-se por que as coisas são do jeito que são e como elas poderiam ser diferentes."
      ],
      "metadata": {
        "id": "S-n9RiVFJ7Ck"
      }
    },
    {
      "cell_type": "code",
      "source": [],
      "metadata": {
        "id": "kPUBedxEINQ0"
      },
      "execution_count": null,
      "outputs": []
    },
    {
      "cell_type": "markdown",
      "source": [
        "# **Ok.... Vamos Codar!!!!**\n",
        "<center><img src=\"https://media.giphy.com/media/N57KpqDb0tlWE/giphy.gif?cid=790b7611y2tltnm5cqhik4z0rsebev2eamt8s21rww4xvxy1&ep=v1_gifs_search&rid=giphy.gif&ct=g\" width=\"500\" height=\"350\" alt=\"dadosxinfo\"></center>"
      ],
      "metadata": {
        "id": "4z3WorCk92uh"
      }
    },
    {
      "cell_type": "markdown",
      "source": [
        "### Alguns termos que iremos escutar muito na área de dados:\n",
        "\n",
        "- **Dataset:** A coleção inteira de informações (como a tabela inteira de amigos).\n",
        "- **DataFrame:** Uma estrutura semelhante a uma tabela em um programa de computador para armazenar e trabalhar com o dataset (a versão da tabela para o computador).\n",
        "- **Series**: Uma única coluna (ou linha) extraída de um DataFrame (como apenas a coluna 'Idade')."
      ],
      "metadata": {
        "id": "APFUy-obi6KL"
      }
    },
    {
      "cell_type": "code",
      "source": [
        "# Importar a biblioteca do python que faz as análises e limpeza dos dados\n",
        "import pandas as pd"
      ],
      "metadata": {
        "id": "LI8R1_mHjwM-"
      },
      "execution_count": null,
      "outputs": []
    },
    {
      "cell_type": "code",
      "source": [
        "# Exemplo de dataset.\n",
        "dados = {\n",
        "    'col1': ['a', 'b', 'c', 'd', 'e', 'f', 'g'],\n",
        "    'col2': [1, 2, 3, 4, 4, 3, 3],\n",
        "    'col3': [5, 6, 6, 7, 3, 2, 3],\n",
        "    'col4': [1.2, 2.3, 3.4, 4.5, 5.6, 6.7, 7.8],\n",
        "    'col_data': [\n",
        "        '01/01/2023',\n",
        "        '02/01/2023',\n",
        "        '03/01/2023',\n",
        "        '04/01/2023',\n",
        "        '05/01/2023',\n",
        "        '06/01/2023',\n",
        "        '07/01/2023'\n",
        "    ]\n",
        "}"
      ],
      "metadata": {
        "id": "5X0SBLCUh8gf"
      },
      "execution_count": null,
      "outputs": []
    },
    {
      "cell_type": "code",
      "source": [
        "# Criar um dataframe para melhor entender a teoria\n",
        "teste = pd.DataFrame(dados)"
      ],
      "metadata": {
        "id": "ySWK3JAbMXMs"
      },
      "execution_count": null,
      "outputs": []
    },
    {
      "cell_type": "code",
      "source": [
        " #mostra as 5 primeiras linhas do seu dataframe\n",
        "teste.head()"
      ],
      "metadata": {
        "id": "0UG823osiSjW"
      },
      "execution_count": null,
      "outputs": []
    },
    {
      "cell_type": "code",
      "source": [
        "teste.shape"
      ],
      "metadata": {
        "id": "3p7n5Gnnltwa"
      },
      "execution_count": null,
      "outputs": []
    },
    {
      "cell_type": "code",
      "source": [
        "# Criar uma nova coluna 'col5'\n",
        "teste['col5'] = ['um', 'dois', 'tres', 'quatro', 'um', 'dois', 'tres']"
      ],
      "metadata": {
        "id": "ddu_6ioLiO9l"
      },
      "execution_count": null,
      "outputs": []
    },
    {
      "cell_type": "code",
      "source": [
        "teste.shape"
      ],
      "metadata": {
        "id": "lKv6ToY6lwN7"
      },
      "execution_count": null,
      "outputs": []
    },
    {
      "cell_type": "code",
      "source": [
        "#mostra as 5 ultimas linhas do seu dataframe\n",
        "teste.tail()"
      ],
      "metadata": {
        "id": "8gOcm_92k4D4"
      },
      "execution_count": null,
      "outputs": []
    },
    {
      "cell_type": "code",
      "source": [
        "teste.info()"
      ],
      "metadata": {
        "id": "QSAXbMF6m23V"
      },
      "execution_count": null,
      "outputs": []
    },
    {
      "cell_type": "code",
      "source": [
        "teste.describe()"
      ],
      "metadata": {
        "id": "WtPjTG5OkLdu"
      },
      "execution_count": null,
      "outputs": []
    },
    {
      "cell_type": "code",
      "source": [
        "#retorna o numero de ocorrencia dos valores unicos de cada coluna\n",
        "teste['col5'].value_counts()"
      ],
      "metadata": {
        "id": "S6tnyzCGknvY"
      },
      "execution_count": null,
      "outputs": []
    },
    {
      "cell_type": "code",
      "source": [
        "#retorna quantos valores diferentes existem em cada coluna\n",
        "teste.nunique()"
      ],
      "metadata": {
        "id": "aNpstURFlRXz"
      },
      "execution_count": null,
      "outputs": []
    },
    {
      "cell_type": "code",
      "source": [
        " #retorna o numero de valores diferentes (unicos) da coluna especificada\n",
        "teste['col1']"
      ],
      "metadata": {
        "id": "FLpO5SuOlRaW"
      },
      "execution_count": null,
      "outputs": []
    },
    {
      "cell_type": "code",
      "source": [
        "#retorna o numero de valores diferentes (unicos) da coluna especificada\n",
        "teste['col1'].nunique()"
      ],
      "metadata": {
        "id": "UCsfbu_PmIls"
      },
      "execution_count": null,
      "outputs": []
    },
    {
      "cell_type": "code",
      "source": [
        "#retorna os valores diferentes (unicos) da coluna especificada\n",
        "teste['col5'].unique()"
      ],
      "metadata": {
        "id": "156PWe_0mO1x"
      },
      "execution_count": null,
      "outputs": []
    },
    {
      "cell_type": "code",
      "source": [
        "#retorna a soma dos valores da coluna\n",
        "teste['col2'].sum()"
      ],
      "metadata": {
        "id": "44IFXld-mO4V"
      },
      "execution_count": null,
      "outputs": []
    },
    {
      "cell_type": "markdown",
      "source": [
        "### Como saber o que a biblioteca disponibiliza para você:\n",
        "https://pandas.pydata.org/docs/reference/api/pandas.DataFrame.sort_values.html"
      ],
      "metadata": {
        "id": "jcZ3DcfonIPV"
      }
    },
    {
      "cell_type": "code",
      "source": [
        "#reorganiza as linhas do dataframe de acordo com uma coluna\n",
        "teste.sort_values(by='col4', ascending=False)"
      ],
      "metadata": {
        "id": "IObm-CASmO61"
      },
      "execution_count": null,
      "outputs": []
    },
    {
      "cell_type": "code",
      "source": [
        "#retorna a media dos valores da coluna\n",
        "teste['col2'].mean() #retorna a media dos valores da coluna"
      ],
      "metadata": {
        "id": "u7eN1NqqnGHG"
      },
      "execution_count": null,
      "outputs": []
    },
    {
      "cell_type": "code",
      "source": [
        "#remoção dos valores nulos de um dataframe, como no exemplo não há nenhum valor nulo, não fará diferença\n",
        "teste.dropna()"
      ],
      "metadata": {
        "id": "o_KZZ7rdl4nd"
      },
      "execution_count": null,
      "outputs": []
    },
    {
      "cell_type": "code",
      "source": [
        "# importando a biblioteca numpy para manipulação de números, matrizes, etc\n",
        "import numpy as np"
      ],
      "metadata": {
        "id": "ZNqJZYfipIVI"
      },
      "execution_count": null,
      "outputs": []
    },
    {
      "cell_type": "code",
      "source": [
        "# Criando uma nova linha no dataframe teste\n",
        "nova_linha = pd.Series({'col1': 'h', 'col2': np.nan, 'col3': 8, 'col4': 5.9, 'col5': 'sete'})"
      ],
      "metadata": {
        "id": "jKy9P_HNl4qA"
      },
      "execution_count": null,
      "outputs": []
    },
    {
      "cell_type": "code",
      "source": [
        "# Concatenando a nova linha criada ao dataframe teste\n",
        "novo_teste = pd.concat([teste, nova_linha.to_frame().T], ignore_index=True)"
      ],
      "metadata": {
        "id": "aGxm9SbKl4sd"
      },
      "execution_count": null,
      "outputs": []
    },
    {
      "cell_type": "code",
      "source": [
        "teste"
      ],
      "metadata": {
        "id": "1uKMelz2l4ws"
      },
      "execution_count": null,
      "outputs": []
    },
    {
      "cell_type": "code",
      "source": [
        "novo_teste"
      ],
      "metadata": {
        "id": "XUnQDKjzqjHF"
      },
      "execution_count": null,
      "outputs": []
    },
    {
      "cell_type": "code",
      "source": [
        "# remoção dos valores nulos de um dataframe\n",
        "novo_teste.dropna()"
      ],
      "metadata": {
        "id": "xFxtsYdzqpMe"
      },
      "execution_count": null,
      "outputs": []
    },
    {
      "cell_type": "code",
      "source": [
        "# Por que a linha voltou?\n",
        "novo_teste"
      ],
      "metadata": {
        "id": "dEa_7wFAq7PG"
      },
      "execution_count": null,
      "outputs": []
    },
    {
      "cell_type": "code",
      "source": [
        "#remoção dos valores nulos de um dataframe, para remover definitivamente\n",
        "novo_teste.dropna(inplace=True)"
      ],
      "metadata": {
        "id": "GMethBxSq7Rl"
      },
      "execution_count": null,
      "outputs": []
    },
    {
      "cell_type": "code",
      "source": [
        "novo_teste"
      ],
      "metadata": {
        "id": "KqQ5hlFEq7UQ"
      },
      "execution_count": null,
      "outputs": []
    },
    {
      "cell_type": "code",
      "source": [
        "#seleção de uma coluna do dataframe como series\n",
        "teste['col1']"
      ],
      "metadata": {
        "id": "ylNFMTcjq7Wo"
      },
      "execution_count": null,
      "outputs": []
    },
    {
      "cell_type": "code",
      "source": [
        "#seleção de uma coluna do dataframe como series\n",
        "teste[['col1']]"
      ],
      "metadata": {
        "id": "NHk24Bhzr_Et"
      },
      "execution_count": null,
      "outputs": []
    },
    {
      "cell_type": "code",
      "source": [
        "#seleção de mais de uma coluna\n",
        "teste[['col1', 'col2']]"
      ],
      "metadata": {
        "id": "gLVNV95YsGUA"
      },
      "execution_count": null,
      "outputs": []
    },
    {
      "cell_type": "markdown",
      "source": [
        "## Criar novas colunas no dataset"
      ],
      "metadata": {
        "id": "04-_Ht7hwXb7"
      }
    },
    {
      "cell_type": "code",
      "source": [
        "#crio a coluna soma, que é a soma das colunas 2 e 3\n",
        "teste['soma'] = teste['col2'] + teste['col3']\n",
        "teste"
      ],
      "metadata": {
        "id": "BhirBMS1rdSc"
      },
      "execution_count": null,
      "outputs": []
    },
    {
      "cell_type": "markdown",
      "source": [
        "### Tipo de dados\n",
        "1. **int(Inteiros)**\n",
        "  - Descrição: Colunas que contêm valores numéricos inteiros.\n",
        "  - Uso: Ideal para dados discretos, como contagens.\n",
        "1. **float(Ponto flutuante)**\n",
        "  -Descrição Colunas que contêm números com casas decimais.\n",
        "  - Uso: Útil para dados contínuos ou quando precisão decimal é necessária.\n",
        "1. **object(Objetos)**\n",
        "  - Descrição: Usado principalmente para colunas que contêm strings ou misturas de tipos.\n",
        "  - Uso: Para dados categóricos ou textuais.\n",
        "1. **bool (Booleanos)**\n",
        "  - Descrição: Colunas que contêm valores verdadeiros ou falsos.\n",
        "  - Uso: Para variáveis binárias ou flags.\n",
        "1. **datetime (Datas e Horas)**\n",
        "  - Descrição: Colunas que contêm informações temporais.\n",
        "  - Uso: Para manipulação de dados de data e hora.\n",
        "1. **category (Categórico)**\n",
        "  - Descrição: Similar ao object, mas com melhor desempenho em termos de memória e rapidez de processamento para dados categóricos.\n",
        "  - Uso: Para variáveis categóricas com um número limitado de valores únicos."
      ],
      "metadata": {
        "id": "q6cDK5L5sZxm"
      }
    },
    {
      "cell_type": "code",
      "source": [
        "#crio a coluna soma2, que é a soma das colunas 2 e 4\n",
        "teste['soma2'] = teste['col2'] + teste['col4']\n",
        "teste"
      ],
      "metadata": {
        "id": "Ma-rzKUssY9D"
      },
      "execution_count": null,
      "outputs": []
    },
    {
      "cell_type": "code",
      "source": [
        "#crio a coluna concat, que é a soma das colunas 1 e 2\n",
        "teste['concat'] = teste['col1'] + teste['col2']\n",
        "teste"
      ],
      "metadata": {
        "id": "Mlie37hSrdYg"
      },
      "execution_count": null,
      "outputs": []
    },
    {
      "cell_type": "markdown",
      "source": [
        "#### Por que deu o erro??? Como contornar:"
      ],
      "metadata": {
        "id": "JU--sedbqYg1"
      }
    },
    {
      "cell_type": "code",
      "source": [
        "# Transformo a coluna teste['col2'] no tipo string ou objeto\n",
        "teste['col2_obj'] = teste['col2'].astype('str')"
      ],
      "metadata": {
        "id": "ZlTzWboardbH"
      },
      "execution_count": null,
      "outputs": []
    },
    {
      "cell_type": "code",
      "source": [
        "teste.info()"
      ],
      "metadata": {
        "id": "16OPmwgqrddw"
      },
      "execution_count": null,
      "outputs": []
    },
    {
      "cell_type": "code",
      "source": [
        "#crio a coluna concat, que é a soma das colunas 1 e 2\n",
        "teste['concat'] = teste['col1'] + teste['col2_obj']\n",
        "teste"
      ],
      "metadata": {
        "id": "aIJqAK44rdgC"
      },
      "execution_count": null,
      "outputs": []
    },
    {
      "cell_type": "code",
      "source": [
        "#axis = 1 remove coluna e axis = 0 remove linha\n",
        "teste.drop(labels = ['soma2'], axis = 1)"
      ],
      "metadata": {
        "id": "Krhu-WbdxL08"
      },
      "execution_count": null,
      "outputs": []
    },
    {
      "cell_type": "code",
      "source": [
        "# Removendo a linha 6\n",
        "teste.drop(6, axis = 0, inplace = True)\n",
        "teste"
      ],
      "metadata": {
        "id": "FagguviVxL3u"
      },
      "execution_count": null,
      "outputs": []
    },
    {
      "cell_type": "code",
      "source": [
        "# Transforma a coluna de data que é do tipo 'object' para tipo 'date' - Assim você consegue criar novas colunas usando as funções da biblioteca datetime\n",
        "# É preciso passar o formato da data como argumento, se não poderá dar erro.\n",
        "teste['col_data'] = pd.to_datetime(teste['col_data'], format='%d/%m/%Y')"
      ],
      "metadata": {
        "id": "SVhG0-qzwdxE"
      },
      "execution_count": null,
      "outputs": []
    },
    {
      "cell_type": "code",
      "source": [
        "# Extrair o ano da coluna de data, é possível extrair o ano, mês, dia, até horário, caso a coluna original já tenha essa informação\n",
        "teste['ano'] = teste['col_data'].dt.year\n",
        "teste['mes'] = teste['col_data'].dt.month\n",
        "teste['dia'] = teste['col_data'].dt.day"
      ],
      "metadata": {
        "id": "3WcS6nI9xvEw"
      },
      "execution_count": null,
      "outputs": []
    },
    {
      "cell_type": "code",
      "source": [
        "teste"
      ],
      "metadata": {
        "id": "fjBBz4GWySAX"
      },
      "execution_count": null,
      "outputs": []
    },
    {
      "cell_type": "markdown",
      "source": [
        "## Seleção de linhas (loc e iloc)"
      ],
      "metadata": {
        "id": "8uYbBq8M8eaB"
      }
    },
    {
      "cell_type": "code",
      "source": [
        "#Fazer uma cópia do dataframe\n",
        "teste_2 = teste.copy()"
      ],
      "metadata": {
        "id": "PLcE5Uqe9b1H"
      },
      "execution_count": null,
      "outputs": []
    },
    {
      "cell_type": "code",
      "source": [
        "teste_2"
      ],
      "metadata": {
        "id": "GwHvgdsW9qWD"
      },
      "execution_count": null,
      "outputs": []
    },
    {
      "cell_type": "code",
      "source": [
        "# Transformar uma coluna em índice\n",
        "teste_2.set_index('col1', inplace=True)"
      ],
      "metadata": {
        "id": "aSj8nO_t9e0r"
      },
      "execution_count": null,
      "outputs": []
    },
    {
      "cell_type": "code",
      "source": [
        "teste_2"
      ],
      "metadata": {
        "id": "Jz7TYQUw91Wh"
      },
      "execution_count": null,
      "outputs": []
    },
    {
      "cell_type": "code",
      "source": [
        "teste_2.loc['a'] #seleção de uma linha"
      ],
      "metadata": {
        "id": "9N5v6fGMxL80"
      },
      "execution_count": null,
      "outputs": []
    },
    {
      "cell_type": "code",
      "source": [
        "teste_2.loc['b', 'col2']"
      ],
      "metadata": {
        "id": "XOQqj2FD8wIj"
      },
      "execution_count": null,
      "outputs": []
    },
    {
      "cell_type": "code",
      "source": [
        "teste_2.loc[['a','b'],['col2','col5']]"
      ],
      "metadata": {
        "id": "Q6Z8FFhBxL_S"
      },
      "execution_count": null,
      "outputs": []
    },
    {
      "cell_type": "code",
      "source": [
        "# O iloc é semelhante ao loc, mas eu seleciono a partir do índice ao invés do nome (por isso o i)\n",
        "teste_2.iloc[0]"
      ],
      "metadata": {
        "id": "Rw8CZdIWxMCX"
      },
      "execution_count": null,
      "outputs": []
    },
    {
      "cell_type": "code",
      "source": [
        "teste_2.loc['a']"
      ],
      "metadata": {
        "id": "kPVKD-ik_EqY"
      },
      "execution_count": null,
      "outputs": []
    },
    {
      "cell_type": "markdown",
      "source": [
        "## Groupby\n",
        "\n",
        "O groupby permite que você agrupe dados para calcular funções em cima deles. Pode ser usado para agrupar linhas baseado em uma coluna."
      ],
      "metadata": {
        "id": "QcKnMuySH3tA"
      }
    },
    {
      "cell_type": "code",
      "source": [
        "teste"
      ],
      "metadata": {
        "id": "ThadfQXbIwgv"
      },
      "execution_count": null,
      "outputs": []
    },
    {
      "cell_type": "code",
      "source": [
        "groupby = teste.groupby('col5')"
      ],
      "metadata": {
        "id": "HK3FqtlJ_EtQ"
      },
      "execution_count": null,
      "outputs": []
    },
    {
      "cell_type": "code",
      "source": [
        "#encontra a media dos valores da col5 nas col3 e col4\n",
        "groupby[['col3', 'col4']].mean()"
      ],
      "metadata": {
        "id": "XdjgHLt6_EyG"
      },
      "execution_count": null,
      "outputs": []
    },
    {
      "cell_type": "code",
      "source": [
        "#groupby com duas colunas\n",
        "col125 = teste.groupby(['col2_obj', 'col5'])"
      ],
      "metadata": {
        "id": "m4Z0jIPJKjKK"
      },
      "execution_count": null,
      "outputs": []
    },
    {
      "cell_type": "code",
      "source": [
        "col125[['col4']].mean()"
      ],
      "metadata": {
        "id": "yR5p9fNfK2Vj"
      },
      "execution_count": null,
      "outputs": []
    },
    {
      "cell_type": "code",
      "source": [
        "# Agrupando e obtendo valores de máximo, mínimo, média e contagem\n",
        "teste.groupby('col5')['soma'].agg(['max', 'min', 'mean', 'count']).reset_index()"
      ],
      "metadata": {
        "id": "7FYpiga8Nfgj"
      },
      "execution_count": null,
      "outputs": []
    },
    {
      "cell_type": "code",
      "source": [
        "# Criar uma tabela cruzada(tabela de frequências) entre 'concat' e 'col5'\n",
        "crosstab_result = pd.crosstab(teste['concat'], teste['col5'])\n",
        "\n",
        "crosstab_result"
      ],
      "metadata": {
        "id": "CY6nlID2L-OI"
      },
      "execution_count": null,
      "outputs": []
    },
    {
      "cell_type": "markdown",
      "source": [
        "## Visualização de Dados com Matplotlib"
      ],
      "metadata": {
        "id": "fn7ufOheNMSk"
      }
    },
    {
      "cell_type": "code",
      "source": [
        "# importando de visualização dos dados\n",
        "import matplotlib.pyplot as plt\n",
        "import seaborn as sns"
      ],
      "metadata": {
        "id": "2Hj97a2qL-R6"
      },
      "execution_count": null,
      "outputs": []
    },
    {
      "cell_type": "markdown",
      "source": [
        "1. **Gráfico de Linhas**\n",
        "  - **Uso:** Ideal para mostrar tendências ao longo do tempo ou a relação entre duas variáveis contínuas.\n",
        "  - **Exemplo:** Evolução de vendas mensais, mudança de temperatura ao longo dos dias."
      ],
      "metadata": {
        "id": "JJDpwW4CNjG3"
      }
    },
    {
      "cell_type": "code",
      "source": [
        "plt.plot(teste['col4'],teste['col2'])\n",
        "plt.title(\"Gráfico de Linhas com Matplotlib\")\n",
        "plt.xlabel(\"col4\")\n",
        "plt.ylabel(\"col2\")\n",
        "plt.show()"
      ],
      "metadata": {
        "id": "wdboXhEcL-Up"
      },
      "execution_count": null,
      "outputs": []
    },
    {
      "cell_type": "code",
      "source": [
        "sns.lineplot(data=teste, x='col4', y='col2')\n",
        "plt.title(\"Gráfico de Linhas com Seaborn\")\n",
        "plt.show()"
      ],
      "metadata": {
        "id": "TcDx8RTKSoTl"
      },
      "execution_count": null,
      "outputs": []
    },
    {
      "cell_type": "markdown",
      "source": [
        "2. **Gráfico de Barras**\n",
        "  - **Uso:** Excelente para comparar quantidades entre diferentes categorias.\n",
        "  - Exemplo: Vendas por produto, população por país."
      ],
      "metadata": {
        "id": "1uPugbdNOuk2"
      }
    },
    {
      "cell_type": "code",
      "source": [
        "# Gráfico de barras\n",
        "plt.bar(teste['col5'],teste['col4'])\n",
        "plt.title(\"Gráfico de Barras com Matplotlib\")\n",
        "plt.xlabel(\"col5\")\n",
        "plt.ylabel(\"col4\")\n",
        "plt.show()"
      ],
      "metadata": {
        "id": "7nqlFR8oNI9Z"
      },
      "execution_count": null,
      "outputs": []
    },
    {
      "cell_type": "code",
      "source": [
        "# Gráfico de barras\n",
        "sns.barplot(data=teste, x='col5', y='col4') #, errorbar=None)\n",
        "plt.title(\"Gráfico de Barras com Seaborn\")\n",
        "plt.show()"
      ],
      "metadata": {
        "id": "lN72wCWfUU0y"
      },
      "execution_count": null,
      "outputs": []
    },
    {
      "cell_type": "markdown",
      "source": [
        "3. **Gráfico de Pizza**\n",
        "  - **Uso:** Útil para mostrar proporções de um todo.\n",
        "  - **Exemplo:** Participação de mercado, distribuição de orçamento."
      ],
      "metadata": {
        "id": "g5XloFrGPJ8V"
      }
    },
    {
      "cell_type": "code",
      "source": [
        "# Agrupar e somar os valores da coluna 'soma' por categorias na coluna 'col5'\n",
        "grouped_data = teste.groupby('col5')['soma'].sum()\n",
        "\n",
        "# Criar o gráfico de pizza\n",
        "plt.figure(figsize=(6, 6))\n",
        "plt.pie(grouped_data, labels=grouped_data.index, autopct='%1.1f%%', startangle=140)\n",
        "plt.title(\"Proporção da coluna 'soma' de acordo com a 'col5'\")\n",
        "plt.axis('equal')  # Assegura que o gráfico de pizza seja um círculo perfeito\n",
        "plt.show()"
      ],
      "metadata": {
        "id": "iPJ4qhrXmCTb"
      },
      "execution_count": null,
      "outputs": []
    },
    {
      "cell_type": "markdown",
      "source": [
        "4. **Histograma**\n",
        "  - **Uso:** Perfeito para mostrar a distribuição de uma variável contínua.\n",
        "  - **Exemplo:** Distribuição de idades, notas de teste."
      ],
      "metadata": {
        "id": "4OzxyOM8P2uI"
      }
    },
    {
      "cell_type": "code",
      "source": [
        "# Histograma\n",
        "data = np.random.normal(0, 1, 1000)\n",
        "\n",
        "plt.hist(data, bins=10)\n",
        "plt.title(\"Histograma com Matplotlib\")\n",
        "plt.xlabel(\"Valor\")\n",
        "plt.ylabel(\"Frequência\")\n",
        "plt.show()"
      ],
      "metadata": {
        "id": "fqkUbi3nNJCW"
      },
      "execution_count": null,
      "outputs": []
    },
    {
      "cell_type": "code",
      "source": [
        "# Histograma\n",
        "sns.histplot(data, bins=10, kde=True) #kde=True: Adiciona uma curva de densidade kernel (opcional), que ajuda a visualizar a distribuição subjacente dos dados.\n",
        "plt.title(\"Histograma com Seaborn\")\n",
        "plt.show()"
      ],
      "metadata": {
        "id": "tvvm5Q-1NJFK"
      },
      "execution_count": null,
      "outputs": []
    },
    {
      "cell_type": "markdown",
      "source": [
        "5. **Gráfico de Dispersão**\n",
        "  - **Uso:** Bom para visualizar a relação entre duas variáveis numéricas.\n",
        "  - **Exemplo:** Relação entre altura e peso, preço e demanda."
      ],
      "metadata": {
        "id": "E41ufnVMn_5f"
      }
    },
    {
      "cell_type": "code",
      "source": [
        "# Gráfico de dispersão\n",
        "plt.scatter(teste['col2'], teste['col4'])\n",
        "plt.title(\"Gráfico de Dispersão com Matplotlib\")\n",
        "plt.xlabel(\"col2\")\n",
        "plt.ylabel(\"col4\")\n",
        "plt.show()"
      ],
      "metadata": {
        "id": "QBvF2hTDoM1U"
      },
      "execution_count": null,
      "outputs": []
    },
    {
      "cell_type": "code",
      "source": [
        "# Gráfico de dispersão\n",
        "sns.scatterplot(data=teste, x='col2', y='col4')\n",
        "plt.title(\"Gráfico de Dispersão com Seaborn\")\n",
        "plt.show()"
      ],
      "metadata": {
        "id": "QIbmmt8wNJKX"
      },
      "execution_count": null,
      "outputs": []
    },
    {
      "cell_type": "markdown",
      "source": [
        "# Ok... mas em relação à Comunidade???\n",
        "\n",
        "<center><img src=\"https://media.giphy.com/media/3o72F3S24tHCAmnXwI/giphy.gif?cid=ecf05e47d7o9qcx03q0m1ojba81vfxl8yzve97xj3o5mbjcs&ep=v1_gifs_search&rid=giphy.gif&ct=g\" width=\"400\" height=\"300\" alt=\"letsgo\"></center>\n"
      ],
      "metadata": {
        "id": "x7owPgpozVi2"
      }
    },
    {
      "cell_type": "markdown",
      "source": [
        "## Carregar o Dataset"
      ],
      "metadata": {
        "id": "SFw-iLKrEI_P"
      }
    },
    {
      "cell_type": "code",
      "execution_count": null,
      "metadata": {
        "id": "yuuYHiL0E7SS",
        "colab": {
          "base_uri": "https://localhost:8080/",
          "height": 73
        },
        "outputId": "1a298331-26df-45f0-82e0-e422579631c8"
      },
      "outputs": [
        {
          "output_type": "display_data",
          "data": {
            "text/plain": [
              "<IPython.core.display.HTML object>"
            ],
            "text/html": [
              "\n",
              "     <input type=\"file\" id=\"files-4419a62c-58a9-480f-8217-be5bc7b47ccb\" name=\"files[]\" multiple disabled\n",
              "        style=\"border:none\" />\n",
              "     <output id=\"result-4419a62c-58a9-480f-8217-be5bc7b47ccb\">\n",
              "      Upload widget is only available when the cell has been executed in the\n",
              "      current browser session. Please rerun this cell to enable.\n",
              "      </output>\n",
              "      <script>// Copyright 2017 Google LLC\n",
              "//\n",
              "// Licensed under the Apache License, Version 2.0 (the \"License\");\n",
              "// you may not use this file except in compliance with the License.\n",
              "// You may obtain a copy of the License at\n",
              "//\n",
              "//      http://www.apache.org/licenses/LICENSE-2.0\n",
              "//\n",
              "// Unless required by applicable law or agreed to in writing, software\n",
              "// distributed under the License is distributed on an \"AS IS\" BASIS,\n",
              "// WITHOUT WARRANTIES OR CONDITIONS OF ANY KIND, either express or implied.\n",
              "// See the License for the specific language governing permissions and\n",
              "// limitations under the License.\n",
              "\n",
              "/**\n",
              " * @fileoverview Helpers for google.colab Python module.\n",
              " */\n",
              "(function(scope) {\n",
              "function span(text, styleAttributes = {}) {\n",
              "  const element = document.createElement('span');\n",
              "  element.textContent = text;\n",
              "  for (const key of Object.keys(styleAttributes)) {\n",
              "    element.style[key] = styleAttributes[key];\n",
              "  }\n",
              "  return element;\n",
              "}\n",
              "\n",
              "// Max number of bytes which will be uploaded at a time.\n",
              "const MAX_PAYLOAD_SIZE = 100 * 1024;\n",
              "\n",
              "function _uploadFiles(inputId, outputId) {\n",
              "  const steps = uploadFilesStep(inputId, outputId);\n",
              "  const outputElement = document.getElementById(outputId);\n",
              "  // Cache steps on the outputElement to make it available for the next call\n",
              "  // to uploadFilesContinue from Python.\n",
              "  outputElement.steps = steps;\n",
              "\n",
              "  return _uploadFilesContinue(outputId);\n",
              "}\n",
              "\n",
              "// This is roughly an async generator (not supported in the browser yet),\n",
              "// where there are multiple asynchronous steps and the Python side is going\n",
              "// to poll for completion of each step.\n",
              "// This uses a Promise to block the python side on completion of each step,\n",
              "// then passes the result of the previous step as the input to the next step.\n",
              "function _uploadFilesContinue(outputId) {\n",
              "  const outputElement = document.getElementById(outputId);\n",
              "  const steps = outputElement.steps;\n",
              "\n",
              "  const next = steps.next(outputElement.lastPromiseValue);\n",
              "  return Promise.resolve(next.value.promise).then((value) => {\n",
              "    // Cache the last promise value to make it available to the next\n",
              "    // step of the generator.\n",
              "    outputElement.lastPromiseValue = value;\n",
              "    return next.value.response;\n",
              "  });\n",
              "}\n",
              "\n",
              "/**\n",
              " * Generator function which is called between each async step of the upload\n",
              " * process.\n",
              " * @param {string} inputId Element ID of the input file picker element.\n",
              " * @param {string} outputId Element ID of the output display.\n",
              " * @return {!Iterable<!Object>} Iterable of next steps.\n",
              " */\n",
              "function* uploadFilesStep(inputId, outputId) {\n",
              "  const inputElement = document.getElementById(inputId);\n",
              "  inputElement.disabled = false;\n",
              "\n",
              "  const outputElement = document.getElementById(outputId);\n",
              "  outputElement.innerHTML = '';\n",
              "\n",
              "  const pickedPromise = new Promise((resolve) => {\n",
              "    inputElement.addEventListener('change', (e) => {\n",
              "      resolve(e.target.files);\n",
              "    });\n",
              "  });\n",
              "\n",
              "  const cancel = document.createElement('button');\n",
              "  inputElement.parentElement.appendChild(cancel);\n",
              "  cancel.textContent = 'Cancel upload';\n",
              "  const cancelPromise = new Promise((resolve) => {\n",
              "    cancel.onclick = () => {\n",
              "      resolve(null);\n",
              "    };\n",
              "  });\n",
              "\n",
              "  // Wait for the user to pick the files.\n",
              "  const files = yield {\n",
              "    promise: Promise.race([pickedPromise, cancelPromise]),\n",
              "    response: {\n",
              "      action: 'starting',\n",
              "    }\n",
              "  };\n",
              "\n",
              "  cancel.remove();\n",
              "\n",
              "  // Disable the input element since further picks are not allowed.\n",
              "  inputElement.disabled = true;\n",
              "\n",
              "  if (!files) {\n",
              "    return {\n",
              "      response: {\n",
              "        action: 'complete',\n",
              "      }\n",
              "    };\n",
              "  }\n",
              "\n",
              "  for (const file of files) {\n",
              "    const li = document.createElement('li');\n",
              "    li.append(span(file.name, {fontWeight: 'bold'}));\n",
              "    li.append(span(\n",
              "        `(${file.type || 'n/a'}) - ${file.size} bytes, ` +\n",
              "        `last modified: ${\n",
              "            file.lastModifiedDate ? file.lastModifiedDate.toLocaleDateString() :\n",
              "                                    'n/a'} - `));\n",
              "    const percent = span('0% done');\n",
              "    li.appendChild(percent);\n",
              "\n",
              "    outputElement.appendChild(li);\n",
              "\n",
              "    const fileDataPromise = new Promise((resolve) => {\n",
              "      const reader = new FileReader();\n",
              "      reader.onload = (e) => {\n",
              "        resolve(e.target.result);\n",
              "      };\n",
              "      reader.readAsArrayBuffer(file);\n",
              "    });\n",
              "    // Wait for the data to be ready.\n",
              "    let fileData = yield {\n",
              "      promise: fileDataPromise,\n",
              "      response: {\n",
              "        action: 'continue',\n",
              "      }\n",
              "    };\n",
              "\n",
              "    // Use a chunked sending to avoid message size limits. See b/62115660.\n",
              "    let position = 0;\n",
              "    do {\n",
              "      const length = Math.min(fileData.byteLength - position, MAX_PAYLOAD_SIZE);\n",
              "      const chunk = new Uint8Array(fileData, position, length);\n",
              "      position += length;\n",
              "\n",
              "      const base64 = btoa(String.fromCharCode.apply(null, chunk));\n",
              "      yield {\n",
              "        response: {\n",
              "          action: 'append',\n",
              "          file: file.name,\n",
              "          data: base64,\n",
              "        },\n",
              "      };\n",
              "\n",
              "      let percentDone = fileData.byteLength === 0 ?\n",
              "          100 :\n",
              "          Math.round((position / fileData.byteLength) * 100);\n",
              "      percent.textContent = `${percentDone}% done`;\n",
              "\n",
              "    } while (position < fileData.byteLength);\n",
              "  }\n",
              "\n",
              "  // All done.\n",
              "  yield {\n",
              "    response: {\n",
              "      action: 'complete',\n",
              "    }\n",
              "  };\n",
              "}\n",
              "\n",
              "scope.google = scope.google || {};\n",
              "scope.google.colab = scope.google.colab || {};\n",
              "scope.google.colab._files = {\n",
              "  _uploadFiles,\n",
              "  _uploadFilesContinue,\n",
              "};\n",
              "})(self);\n",
              "</script> "
            ]
          },
          "metadata": {}
        },
        {
          "output_type": "stream",
          "name": "stdout",
          "text": [
            "Saving mapeamento_anonimizado_autorizado_tokenizado_embaralhado.csv to mapeamento_anonimizado_autorizado_tokenizado_embaralhado.csv\n"
          ]
        }
      ],
      "source": [
        "from google.colab import files\n",
        "\n",
        "# Faça o upload do arquivo\n",
        "uploaded = files.upload()"
      ]
    },
    {
      "cell_type": "code",
      "source": [
        "# Listar os arquivos que foram carregados\n",
        "for filename in uploaded.keys():\n",
        "    print(f'Arquivo carregado: {filename}')"
      ],
      "metadata": {
        "id": "VS1Lw0BwrIUw",
        "colab": {
          "base_uri": "https://localhost:8080/"
        },
        "outputId": "f4dd984c-b3dd-4b45-a20b-7e8fd67bee3e"
      },
      "execution_count": null,
      "outputs": [
        {
          "output_type": "stream",
          "name": "stdout",
          "text": [
            "Arquivo carregado: mapeamento_anonimizado_autorizado_tokenizado_embaralhado.csv\n"
          ]
        }
      ]
    },
    {
      "cell_type": "code",
      "source": [
        "# Acessar o arquivo diretamente usando o nome do arquivo\n",
        "# Exemplo: ler um arquivo csv usando pandas\n",
        "import pandas as pd\n",
        "\n",
        "df = pd.read_csv('mapeamento_anonimizado_autorizado_tokenizado_embaralhado.csv')"
      ],
      "metadata": {
        "id": "czQp2KHqrNB6"
      },
      "execution_count": null,
      "outputs": []
    },
    {
      "cell_type": "markdown",
      "source": [],
      "metadata": {
        "id": "IQ-FemqOKW05"
      }
    },
    {
      "cell_type": "markdown",
      "source": [
        "## Exercícios\n",
        " -\n",
        "\n",
        "<center><img src=\"https://media.giphy.com/media/Z7O3ZvbiYZo36XW2H2/giphy.gif?cid=790b7611j5uff7gghl5wtyttvb65c30rg6n8fjwhwd31n21h&ep=v1_gifs_search&rid=giphy.gif&ct=g\" width=\"350\" height=\"350\" alt=\"knowledge\"></center>\n"
      ],
      "metadata": {
        "id": "xQvfopK42by-"
      }
    },
    {
      "cell_type": "markdown",
      "source": [
        "Utilize a função head() para visualizar os primeiros itens do seu dataset. O que acontece se você colocar algum número dentro do parenteses?"
      ],
      "metadata": {
        "id": "Ky4ANK2N3KTn"
      }
    },
    {
      "cell_type": "markdown",
      "source": [
        "Utilize a função .info(), quais informações consegue obter com ela? Como é seu dataset?"
      ],
      "metadata": {
        "id": "ll41SYIe3aMd"
      }
    },
    {
      "cell_type": "markdown",
      "source": [
        "Quantos raças/etnias diferentes aparecem no dataset? (dica: use a coluna 'raca_etnia')"
      ],
      "metadata": {
        "id": "4bk_JhuH3fFO"
      }
    },
    {
      "cell_type": "markdown",
      "source": [
        "Quais raças/etnias estão listados no dataset?"
      ],
      "metadata": {
        "id": "ndj1d8tr3yIc"
      }
    },
    {
      "cell_type": "markdown",
      "source": [
        "Quantas vezes cada raça/etnia diferente aparece?"
      ],
      "metadata": {
        "id": "ke4v5W2534nP"
      }
    },
    {
      "cell_type": "markdown",
      "source": [
        "Selecione a 16a linha do seu dataframe. Qual é o gênero mostrado? Qual é a escolaridade? (lembre que a contagem começa em 0)"
      ],
      "metadata": {
        "id": "X-tvNiXG347s"
      }
    },
    {
      "cell_type": "markdown",
      "source": [
        "Crie dois dataframes. Um com as entradas quantas ladies programam em python e outro com as ladies que não programam em python ainda (dica: use seleção condicional na coluna 'programa_python')"
      ],
      "metadata": {
        "id": "iEEdyDar35NM"
      }
    },
    {
      "cell_type": "markdown",
      "source": [
        "Crie novos dataframe agora com as colunas:\n",
        "\n",
        "*   profissionalmente_ativa\n",
        "*   situacao_profissional\n",
        "*   profissão_atual\n",
        "\n",
        "para ladies que programam em python e as que não program (dica: use as variáveis já criadas acima)"
      ],
      "metadata": {
        "id": "reXVksh335hJ"
      }
    },
    {
      "cell_type": "markdown",
      "source": [
        "Qual é a situação profissional que mais ocorre nos dois dataframes? Das que programam em python e das que não programam? Dica use a função value_counts()"
      ],
      "metadata": {
        "id": "xBkNoRg5S3tT"
      }
    },
    {
      "cell_type": "markdown",
      "source": [
        " Crie um dataframe cruzando os dados de orientacão sexual e a raça/etnia das ladies."
      ],
      "metadata": {
        "id": "q83bU4le2isW"
      }
    },
    {
      "cell_type": "markdown",
      "source": [
        "Crie um gráfico de barras para demonstrar a raça/etnia das Ladies"
      ],
      "metadata": {
        "id": "toMULAjPAA2W"
      }
    },
    {
      "cell_type": "markdown",
      "source": [
        "O que você pode inferir desse gráfico:\n",
        "- Qual é a etnia predominante na comunidade?\n",
        "- E a orientação sexual?\n",
        "\n",
        "O que mais você conseguiria retirar desse gráfico? Compartilhe com a gente."
      ],
      "metadata": {
        "id": "P6MmLcZKrrxZ"
      }
    },
    {
      "cell_type": "markdown",
      "source": [
        "Crie um dataframe cruzando os 'seu_nivel_python' e a 'quanto_tempo_programa_python' das ladies."
      ],
      "metadata": {
        "id": "V2NPkgIqFRoU"
      }
    },
    {
      "cell_type": "markdown",
      "source": [
        "Crie um dataframe cruzando os 'renda mensal' e a 'profissão' das ladies. E também crie um gráfico de barras"
      ],
      "metadata": {
        "id": "d3fMd9Fhs2qq"
      }
    },
    {
      "cell_type": "markdown",
      "source": [
        "Qual é a faixa salarial da maioria das ladies que trabalham como Sandy. Use a coluna situacao_profissional\n",
        "\n"
      ],
      "metadata": {
        "id": "Q_CC6gvSuPYs"
      }
    },
    {
      "cell_type": "markdown",
      "source": [
        "Crie um dataframe cruzando a 'escolaridade' e a 'renda mensal' das ladies."
      ],
      "metadata": {
        "id": "4frSBqiKaTJz"
      }
    },
    {
      "cell_type": "markdown",
      "source": [
        "### Desafio - Nível Hard\n",
        "- Qual a idade das ladies, por ordem crescente?\n",
        "- Qual a lady mais nova?\n",
        "- Qual a média da idade das ladies?"
      ],
      "metadata": {
        "id": "OdURfqtqy3-A"
      }
    },
    {
      "cell_type": "code",
      "source": [],
      "metadata": {
        "id": "VznI8fN5fAYY"
      },
      "execution_count": null,
      "outputs": []
    }
  ]
}